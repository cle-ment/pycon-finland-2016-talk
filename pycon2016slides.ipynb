{
 "cells": [
  {
   "cell_type": "code",
   "execution_count": 200,
   "metadata": {
    "collapsed": false,
    "nbpresent": {
     "id": "30a3b405-86ed-44ed-9bff-306e10eb7e6c"
    },
    "slideshow": {
     "slide_type": "skip"
    }
   },
   "outputs": [
    {
     "data": {
      "text/plain": [
       "{'controls': False,\n",
       " 'height': 768,\n",
       " 'start_slideshow_at': 'selected',\n",
       " 'theme': 'white',\n",
       " 'transition': 'linear',\n",
       " 'width': 1024}"
      ]
     },
     "execution_count": 200,
     "metadata": {},
     "output_type": "execute_result"
    }
   ],
   "source": [
    "from IPython.paths import locate_profile\n",
    "from notebook.services.config.manager import ConfigManager\n",
    "cm = ConfigManager()\n",
    "\n",
    "cm.update('livereveal', {\n",
    "          'theme': 'white',\n",
    "          'transition': 'linear',\n",
    "          'start_slideshow_at': 'selected',\n",
    "          'width': 1024,\n",
    "          'height': 768\n",
    "})"
   ]
  },
  {
   "cell_type": "code",
   "execution_count": 243,
   "metadata": {
    "collapsed": false,
    "slideshow": {
     "slide_type": "skip"
    }
   },
   "outputs": [],
   "source": [
    "%matplotlib inline\n",
    "import matplotlib\n",
    "import matplotlib.pyplot as plt\n",
    "from matplotlib.pyplot import cm \n",
    "import matplotlib.cm as cm\n",
    "\n",
    "from pylab import rcParams\n",
    "\n",
    "import logging\n",
    "logging.getLogger(\"gensim\").setLevel(logging.ERROR)\n",
    "logger = logging.getLogger()\n",
    "\n",
    "import pickle\n",
    "import datetime\n",
    "import logging\n",
    "import time\n",
    "import pandas as pd\n",
    "import numpy as np\n",
    "from random import shuffle\n",
    "import multiprocessing\n",
    "import string\n",
    "import itertools\n",
    "\n",
    "import keras\n",
    "\n",
    "import qgrid\n",
    "\n",
    "import sklearn\n",
    "from sklearn import feature_extraction\n",
    "from sklearn import cross_validation\n",
    "from sklearn import linear_model\n",
    "from sklearn import naive_bayes\n",
    "from sklearn import neighbors\n",
    "from sklearn import grid_search\n",
    "from sklearn import pipeline\n",
    "from sklearn import metrics\n",
    "from sklearn import dummy\n",
    "from sklearn import decomposition\n",
    "from sklearn import manifold\n",
    "\n",
    "import gensim\n",
    "from gensim import models\n",
    "\n",
    "import seaborn\n",
    "import seaborn as sns\n",
    "import statsmodels\n",
    "sns.reset_defaults()\n",
    "sns.set(color_codes=True)"
   ]
  },
  {
   "cell_type": "code",
   "execution_count": 244,
   "metadata": {
    "collapsed": true,
    "slideshow": {
     "slide_type": "skip"
    }
   },
   "outputs": [],
   "source": [
    "# Default feature vector dimensionality\n",
    "FEAT_DIM = 300\n",
    "\n",
    "# Test set size\n",
    "TEST_SIZE = 0.3\n",
    "\n",
    "# checks for doc2vec\n",
    "cores = multiprocessing.cpu_count()\n",
    "assert gensim.models.doc2vec.FAST_VERSION > -1, \"this will be painfully slow otherwise\""
   ]
  },
  {
   "cell_type": "code",
   "execution_count": 245,
   "metadata": {
    "collapsed": true,
    "slideshow": {
     "slide_type": "skip"
    }
   },
   "outputs": [],
   "source": [
    "def plot_confusion_matrix(cm, data_Y_labels, \n",
    "                          title='Confusion Matrix', normalized=False,\n",
    "                          cmap=\"Blues\", filename=None, yticks=True,\n",
    "                          colorbar=True):    \n",
    "    if normalized:\n",
    "        confusion_matrix = cm.astype('float') / cm.sum(axis=1)[:, np.newaxis]\n",
    "    else:\n",
    "        confusion_matrix = cm\n",
    "        \n",
    "    with sns.axes_style(\"dark\"):        \n",
    "        \n",
    "        fig = plt.figure()\n",
    "        fig.set_figheight(3, forward=False)\n",
    "        plt.imshow(confusion_matrix, interpolation='nearest', cmap=cmap)\n",
    "        plt.title(title)\n",
    "        if colorbar:\n",
    "            plt.colorbar()\n",
    "        tick_marks = np.arange(len(data_Y_labels))\n",
    "        plt.xticks(tick_marks, data_Y_labels, rotation=90)\n",
    "        plt.xlabel('Predicted label')\n",
    "        if yticks:\n",
    "            plt.yticks(tick_marks, data_Y_labels)\n",
    "            plt.ylabel('True label')\n",
    "        else:\n",
    "            plt.yticks(tick_marks, [\"\"]*len(data_Y_labels))\n",
    "        \n",
    "#         plt.tight_layout()        \n",
    "\n",
    "        if filename != None:\n",
    "            plt.savefig(\"plots/\" + filename +\".pdf\", format='pdf', \n",
    "                    bbox_inches='tight')        \n",
    "        plt.show()"
   ]
  },
  {
   "cell_type": "code",
   "execution_count": 246,
   "metadata": {
    "collapsed": true,
    "slideshow": {
     "slide_type": "skip"
    }
   },
   "outputs": [],
   "source": [
    "df = pd.read_csv(\"/Users/cwestrup/thesis/data/collected/crowdflower/data/sentences_aggregated_50-449.csv\")"
   ]
  },
  {
   "cell_type": "code",
   "execution_count": 247,
   "metadata": {
    "collapsed": true,
    "slideshow": {
     "slide_type": "skip"
    }
   },
   "outputs": [],
   "source": [
    "# Use entries with label confidence over 0.6 and aren't test questions:\n",
    "df_conf = df[df['0_label:confidence'] > 0.6]\n",
    "df_conf = df_conf[df_conf['_golden'] == False]\n",
    "df_conf = df_conf[['0_label', '0_label:confidence', '0-sentence',\n",
    "         '0-context-after', '0-context-before']]\n",
    "\n",
    "# data\n",
    "data_X = np.array(df_conf['0-sentence'])\n",
    "data_Y = np.array(df_conf['0_label'])\n",
    "\n",
    "# train / validation split \n",
    "(X_train, X_test, Y_train, Y_test) = sklearn.cross_validation.train_test_split(\n",
    "     data_X, data_Y, test_size=TEST_SIZE, random_state=0)\n",
    "\n",
    "# labels in categorical encoding\n",
    "le = sklearn.preprocessing.LabelEncoder()\n",
    "le.fit(data_Y)\n",
    "Y_categorical_labels = le.classes_\n",
    "Y_categorical = le.transform(data_Y)\n",
    "Y_categorical_train = le.transform(Y_train)\n",
    "Y_categorical_test = le.transform(Y_test)\n",
    "\n",
    "# encode categorically encoded labels in one-hot encoding\n",
    "lb = sklearn.preprocessing.LabelBinarizer()\n",
    "lb.fit(Y_categorical)\n",
    "Y_onehot_labels = lb.classes_\n",
    "Y_onehot = lb.transform(Y_categorical)\n",
    "Y_onehot_train = lb.transform(Y_categorical_train)\n",
    "Y_onehot_test = lb.transform(Y_categorical_test)"
   ]
  },
  {
   "cell_type": "markdown",
   "metadata": {
    "slideshow": {
     "slide_type": "slide"
    }
   },
   "source": [
    "#  Representation Learning and Deep Sequential Modeling for Predicting Topics of Sentences in Job Advertisements\n",
    "\n",
    "Clemens Westrup"
   ]
  },
  {
   "cell_type": "markdown",
   "metadata": {
    "slideshow": {
     "slide_type": "subslide"
    }
   },
   "source": [
    "Or a bit more understandable:\n",
    "\n",
    "#  Text Classification on Sentences from Job Ads"
   ]
  },
  {
   "cell_type": "markdown",
   "metadata": {
    "code_folding": [],
    "nbpresent": {
     "id": "fd91dee0-c4d6-410f-9ce0-fbebdbd681db"
    },
    "slideshow": {
     "slide_type": "slide"
    }
   },
   "source": [
    "## About me"
   ]
  },
  {
   "cell_type": "markdown",
   "metadata": {
    "nbpresent": {
     "id": "fed2abd7-8083-4df9-a396-0d3f7da636fd"
    },
    "slideshow": {
     "slide_type": "fragment"
    }
   },
   "source": [
    "- Clemens Westrup"
   ]
  },
  {
   "cell_type": "markdown",
   "metadata": {
    "collapsed": false,
    "nbpresent": {
     "id": "f5f89cb4-71a6-4637-a616-5fdcf9a23d5b"
    },
    "slideshow": {
     "slide_type": "fragment"
    }
   },
   "source": [
    "- Master's in Machine Learning and Data Mining at Aalto University"
   ]
  },
  {
   "cell_type": "markdown",
   "metadata": {
    "slideshow": {
     "slide_type": "fragment"
    }
   },
   "source": [
    "- Now working as Data Scientist in Sanoma"
   ]
  },
  {
   "cell_type": "markdown",
   "metadata": {
    "slideshow": {
     "slide_type": "fragment"
    }
   },
   "source": [
    "- mail@clemenswestrup.de\n",
    "- github.com/cle-ment"
   ]
  },
  {
   "cell_type": "markdown",
   "metadata": {
    "collapsed": true,
    "nbpresent": {
     "id": "7b7bc558-c5f0-45c7-b371-a4f2d42a5aa4"
    },
    "slideshow": {
     "slide_type": "slide"
    }
   },
   "source": [
    "## About this talk "
   ]
  },
  {
   "cell_type": "markdown",
   "metadata": {
    "collapsed": true,
    "nbpresent": {
     "id": "d6c5bfaa-e5cc-400d-ba1f-23c440e647a4"
    },
    "slideshow": {
     "slide_type": "fragment"
    }
   },
   "source": [
    "- Based on Master's thesis (Can be found online: http://github.com/cle-ment/ma-thesis-tex)"
   ]
  },
  {
   "cell_type": "markdown",
   "metadata": {
    "slideshow": {
     "slide_type": "fragment"
    }
   },
   "source": [
    "- A project in collaboration with Sanoma "
   ]
  },
  {
   "cell_type": "markdown",
   "metadata": {
    "collapsed": true,
    "slideshow": {
     "slide_type": "fragment"
    }
   },
   "source": [
    "- Problem domain: Job Advertisements (Oikotie Työpaikat)"
   ]
  },
  {
   "cell_type": "markdown",
   "metadata": {
    "slideshow": {
     "slide_type": "fragment"
    }
   },
   "source": [
    "- Topic: Text classification "
   ]
  },
  {
   "cell_type": "markdown",
   "metadata": {
    "slideshow": {
     "slide_type": "slide"
    }
   },
   "source": [
    "## Brief Outline"
   ]
  },
  {
   "cell_type": "markdown",
   "metadata": {
    "slideshow": {
     "slide_type": "fragment"
    }
   },
   "source": [
    "- Exploration of problem domain"
   ]
  },
  {
   "cell_type": "markdown",
   "metadata": {
    "slideshow": {
     "slide_type": "fragment"
    }
   },
   "source": [
    "- Formal Problem Definition"
   ]
  },
  {
   "cell_type": "markdown",
   "metadata": {
    "slideshow": {
     "slide_type": "fragment"
    }
   },
   "source": [
    "- Methods for Text Classification"
   ]
  },
  {
   "cell_type": "markdown",
   "metadata": {
    "slideshow": {
     "slide_type": "fragment"
    }
   },
   "source": [
    "- Results"
   ]
  },
  {
   "cell_type": "markdown",
   "metadata": {
    "slideshow": {
     "slide_type": "fragment"
    }
   },
   "source": [
    "- Conclusions"
   ]
  },
  {
   "cell_type": "markdown",
   "metadata": {
    "slideshow": {
     "slide_type": "slide"
    }
   },
   "source": [
    "## A Typical Job Advertisement"
   ]
  },
  {
   "cell_type": "markdown",
   "metadata": {
    "collapsed": true,
    "slideshow": {
     "slide_type": "subslide"
    }
   },
   "source": [
    "<h4>(Senior) Research Scientist – MEMS designer VTT Technical Research Centre of Finland Ltd</h4>\n",
    "\n",
    "<small>\n",
    "You are a passionate researcher with proven experience in the field of MEMS and microelectronic components. With us, you will be responsible to set-up technological solutions, concepts and demonstrators for external and internal customers, starting from the sensor chip. You will be a member of the MEMS team. You will design, simulate, draw lithography masks and test MEMS components. You will have an impact on our customers’ innovation and valorise our sensing technologies with demonstrators as well as have a role in project preparation and possibly also project management. \n",
    " \n",
    "__We expect you to have__\n",
    "\n",
    "A university degree in physics or applied physics.\n",
    "Experience in MEMS design, analytical and numerical simulation (Ansys, Comsol or Simulink).\n",
    "Knowledge on MEMS manufacturing processes.\n",
    "Experience in MEMS read-out electronics and use of measurement equipment and software (e.g. LabView).\n",
    "Programming skills, capable of using different software tools in synergy.\n",
    "You speak English fluently.\n",
    "The following experiences will be an asset: experience with customers, project management and creation of jointly funded project in Finland. \n",
    " \n",
    "As a person you are \n",
    "Active learner and team worker, you are eager to achieve things. You are efficient, well-organised and pro-active and you can work on a few projects in parallel. \n",
    " \n",
    "__We offer__ \n",
    "\n",
    "We offer you a working environment where we develop globally unique technologies and where you will have always renewed challenges and opportunities of achievement and technological fun. \n",
    "The position is in Espoo, Finland, where you are willing to relocate. You will be in the Sensors and integration research area and you will have the occasion to interact in-house with other disciplines, from silicon to cloud and more. \n",
    " \n",
    "For further information, please contact Anu Kärkkäinen, Research Team Leader, +358 40 820 5883, anu.karkkainen@vtt.fi\n",
    "</small>"
   ]
  },
  {
   "cell_type": "markdown",
   "metadata": {
    "slideshow": {
     "slide_type": "slide"
    }
   },
   "source": [
    "## Idea: Structure Content of Job Ads"
   ]
  },
  {
   "cell_type": "markdown",
   "metadata": {
    "slideshow": {
     "slide_type": "fragment"
    }
   },
   "source": [
    "- Could produce interesting insights / statistics about job ads\n"
   ]
  },
  {
   "cell_type": "markdown",
   "metadata": {
    "slideshow": {
     "slide_type": "fragment"
    }
   },
   "source": [
    "- Makes the data more usable for other purposes, e.g.:\n",
    "    - Seperate requirements and further process them\n",
    "    - What makes a good job ad? How does the structure affect popularity / success?"
   ]
  },
  {
   "cell_type": "markdown",
   "metadata": {
    "slideshow": {
     "slide_type": "slide"
    }
   },
   "source": [
    "## Experiment: How would people structure job ads?"
   ]
  },
  {
   "cell_type": "markdown",
   "metadata": {
    "slideshow": {
     "slide_type": "fragment"
    }
   },
   "source": [
    "- Built minimal web service to collect paragraph labels (Node + MongoDB + Mustache)"
   ]
  },
  {
   "cell_type": "markdown",
   "metadata": {
    "slideshow": {
     "slide_type": "fragment"
    }
   },
   "source": [
    "- Collected: 91 tagged job ads = 379 tagged paragraphs and 358 tags"
   ]
  },
  {
   "cell_type": "markdown",
   "metadata": {
    "slideshow": {
     "slide_type": "subslide"
    }
   },
   "source": [
    "<img src=\"images/job-listing-structure.pdf\" width=\"100%\"/>"
   ]
  },
  {
   "cell_type": "markdown",
   "metadata": {
    "slideshow": {
     "slide_type": "slide"
    }
   },
   "source": [
    "## Problem Definition: Multi-class Sentence Classification"
   ]
  },
  {
   "cell_type": "markdown",
   "metadata": {
    "slideshow": {
     "slide_type": "fragment"
    }
   },
   "source": [
    "- Set of labels $\\mathcal{L} = \\{ \\text{benefits}, \\text{candidate}, \\text{company}, \\text{job}, \\text{nextsteps}, \\text{other} \\}$"
   ]
  },
  {
   "cell_type": "markdown",
   "metadata": {
    "slideshow": {
     "slide_type": "fragment"
    }
   },
   "source": [
    "- Set of Sentences $\\mathcal{S}$"
   ]
  },
  {
   "cell_type": "markdown",
   "metadata": {
    "slideshow": {
     "slide_type": "fragment"
    }
   },
   "source": [
    "- Predict the label $l_i$ for a sentence $s_i$"
   ]
  },
  {
   "cell_type": "markdown",
   "metadata": {
    "slideshow": {
     "slide_type": "fragment"
    }
   },
   "source": [
    "- using a model function $\\widetilde{\\Phi} : \\mathcal{S} \\rightarrow \\mathcal{L}$"
   ]
  },
  {
   "cell_type": "markdown",
   "metadata": {
    "slideshow": {
     "slide_type": "slide"
    }
   },
   "source": [
    "## Dataset of Sentences"
   ]
  },
  {
   "cell_type": "markdown",
   "metadata": {
    "slideshow": {
     "slide_type": "fragment"
    }
   },
   "source": [
    "- Data extracted from API with package __requests__ \n",
    "- Converted from HTML into raw text using __beautifulsoup__ and split into sentences"
   ]
  },
  {
   "cell_type": "markdown",
   "metadata": {
    "slideshow": {
     "slide_type": "fragment"
    }
   },
   "source": [
    "- Labels collected using CrowdFlower.com"
   ]
  },
  {
   "cell_type": "markdown",
   "metadata": {
    "slideshow": {
     "slide_type": "fragment"
    }
   },
   "source": [
    "- In total: 10670 labelled english sentences\n",
    "- 9948 with agreement of over 60%\n",
    "- = 121,119 words and 807,984 characters"
   ]
  },
  {
   "cell_type": "markdown",
   "metadata": {
    "collapsed": true,
    "slideshow": {
     "slide_type": "skip"
    }
   },
   "source": [
    "<img src=\"images/sentence-data-label-dist.pdf\" width=\"100%\"/>"
   ]
  },
  {
   "cell_type": "markdown",
   "metadata": {
    "slideshow": {
     "slide_type": "subslide"
    }
   },
   "source": [
    "Using __seaborn__ and __matplotlib__ we can visualize the distribution of the labels:"
   ]
  },
  {
   "cell_type": "code",
   "execution_count": 248,
   "metadata": {
    "code_folding": [],
    "collapsed": false,
    "slideshow": {
     "slide_type": "-"
    }
   },
   "outputs": [
    {
     "data": {
      "image/png": "[encoded data removed]",
      "text/plain": [
       "<matplotlib.figure.Figure at 0x20867a588>"
      ]
     },
     "metadata": {},
     "output_type": "display_data"
    }
   ],
   "source": [
    "with sns.axes_style(\"whitegrid\"):\n",
    "    plt.figure(figsize=(10,3))\n",
    "    labels = Y_categorical_labels\n",
    "    y_pos = np.arange(len(labels))\n",
    "    label_amounts = sum(Y_onehot)\n",
    "    \n",
    "    plt.barh(y_pos, label_amounts, align='center', alpha=0.4)\n",
    "    plt.yticks(y_pos, labels)\n",
    "    plt.xlabel('Number of sentences with this label')\n",
    "    plt.title('Label distribution')\n",
    "    plt.show()"
   ]
  },
  {
   "cell_type": "markdown",
   "metadata": {
    "slideshow": {
     "slide_type": "skip"
    }
   },
   "source": [
    "Label | Description | Example Sentence\n",
    "------|-------------|-----------------\n",
    "benefits | Benefits: Rewards, opportunities, reasons to apply, ... | And we like to think we’ll give you an enjoyable and inspiring place to spend your working day. \n",
    "candidate | Candidate requirements: Requirements, skills, experience, education, personality, ... | To succeed in this position it is essential to have strong experience of at least 5 years in international business development and/or international B2B sales and marketing. \n",
    "company | Company information: Company name, story, mission, structure, market share, ... | Progman is software house specialising in the development of software for Building Services. \n",
    "job | Job description: Role, responsibilities, location of work, type of employment, ... | Your main objective is to maximize Core Fleet, Dealer B2B, municipality and governmental orders and sales for PC and LCV range to local Fleets and businesses within defined geographical area. \n",
    "nextsteps | Next steps: Call to action, application procedure, contact, further information, ... | 040 75 67 316, Mon-Fri 10-14, or peas@temp-team.fi. \n",
    "other | Other: Does not fit into the above categories | URS’\n"
   ]
  },
  {
   "cell_type": "markdown",
   "metadata": {
    "slideshow": {
     "slide_type": "slide"
    }
   },
   "source": [
    "## How well are we doing (aka the metric)?"
   ]
  },
  {
   "cell_type": "markdown",
   "metadata": {
    "slideshow": {
     "slide_type": "skip"
    }
   },
   "source": [
    "&nbsp;                       | Real Positives (RP)  | Real Negatives (RN)\n",
    "-----------------------------|----------------------|---------------------\n",
    "Predicted <br>Positives (PP) | True Positives (TP)  | False Positives (FP) \n",
    "Predicted <br>Negatives (PN) | False Negatives (FN) | True Negatives (TN) "
   ]
  },
  {
   "cell_type": "markdown",
   "metadata": {
    "slideshow": {
     "slide_type": "fragment"
    }
   },
   "source": [
    "Matthews Correlation Coefficient (MCC)   "
   ]
  },
  {
   "cell_type": "markdown",
   "metadata": {
    "slideshow": {
     "slide_type": "skip"
    }
   },
   "source": [
    "$$r_{G} = \\frac{(\\text{TP} \\cdot \\text{TN} - \\text{FP} \\cdot \\text{FN})}{(\\text{TP} + \\text{FN})(\\text{FP} + \\text{TN})(\\text{TP} + \\text{FP})(\\text{FN} + \\text{TN})}\n",
    "$$"
   ]
  },
  {
   "cell_type": "markdown",
   "metadata": {
    "slideshow": {
     "slide_type": "fragment"
    }
   },
   "source": [
    "- Measures correlation between actual labels and prediction (from -1 to 1, zero means guessing)"
   ]
  },
  {
   "cell_type": "markdown",
   "metadata": {
    "slideshow": {
     "slide_type": "fragment"
    }
   },
   "source": [
    "- Unbiased metric towards skew in class distribution"
   ]
  },
  {
   "cell_type": "markdown",
   "metadata": {
    "slideshow": {
     "slide_type": "subslide"
    }
   },
   "source": [
    "For multiclass problems it can be implemented using __numpy__ and __scikit-learn__ for data transformation if needed:"
   ]
  },
  {
   "cell_type": "code",
   "execution_count": 2,
   "metadata": {
    "collapsed": true,
    "slideshow": {
     "slide_type": "-"
    }
   },
   "outputs": [],
   "source": [
    "def cov(x,y):\n",
    "    N = np.shape(x)[0]\n",
    "    K = np.shape(x)[1] \n",
    "    x_centered = (x - np.mean(x,0))\n",
    "    y_centered = (y - np.mean(y,0))\n",
    "    cov = 0\n",
    "    for n in range(0,N):  \n",
    "        cov += x_centered[n].T.dot(y_centered[n])\n",
    "    return cov / K\n",
    "\n",
    "def MCC(x,y):\n",
    "    # check if the input is in multiclass form\n",
    "    try:\n",
    "        y_type, _, _ = sklearn.metrics.classification._check_targets(x, y)\n",
    "        if y_type.startswith('multiclass'):\n",
    "            x = lb.transform(x)\n",
    "            y = lb.transform(y)\n",
    "    except: \n",
    "        print('Warning, input not sklearn compatible: '\n",
    "              + 'No metrics support \"multiclass-multioutput\" format')\n",
    "    \n",
    "    return (cov(x, y) / np.sqrt( cov(x, x) * cov(y, y)))"
   ]
  },
  {
   "cell_type": "code",
   "execution_count": 115,
   "metadata": {
    "collapsed": true,
    "slideshow": {
     "slide_type": "skip"
    }
   },
   "outputs": [],
   "source": [
    "# transform the data with although it won't be used\n",
    "X_train_trans = sklearn.feature_extraction.text.TfidfVectorizer().fit_transform(X_train)\n",
    "X_test_trans  = sklearn.feature_extraction.text.TfidfVectorizer().fit_transform(X_test)"
   ]
  },
  {
   "cell_type": "markdown",
   "metadata": {
    "slideshow": {
     "slide_type": "subslide"
    }
   },
   "source": [
    "Using __scikit-learn__ we can create dummy classifiers that just guess. Let's build one and measure it with Matthews Correlation Coefficient (I have preloaded the data already):"
   ]
  },
  {
   "cell_type": "code",
   "execution_count": 3,
   "metadata": {
    "collapsed": false,
    "slideshow": {
     "slide_type": "-"
    }
   },
   "outputs": [
    {
     "ename": "NameError",
     "evalue": "name 'sklearn' is not defined",
     "output_type": "error",
     "traceback": [
      "\u001b[0;31m---------------------------------------------------------------------------\u001b[0m",
      "\u001b[0;31mNameError\u001b[0m                                 Traceback (most recent call last)",
      "\u001b[0;32m<ipython-input-3-eaa6a419b466>\u001b[0m in \u001b[0;36m<module>\u001b[0;34m()\u001b[0m\n\u001b[1;32m      1\u001b[0m \u001b[0;31m# a dummy classifier that guesses randomly\u001b[0m\u001b[0;34m\u001b[0m\u001b[0;34m\u001b[0m\u001b[0m\n\u001b[0;32m----> 2\u001b[0;31m \u001b[0muniform_dummy\u001b[0m \u001b[0;34m=\u001b[0m \u001b[0msklearn\u001b[0m\u001b[0;34m.\u001b[0m\u001b[0mdummy\u001b[0m\u001b[0;34m.\u001b[0m\u001b[0mDummyClassifier\u001b[0m\u001b[0;34m(\u001b[0m\u001b[0mstrategy\u001b[0m\u001b[0;34m=\u001b[0m\u001b[0;34m'uniform'\u001b[0m\u001b[0;34m)\u001b[0m\u001b[0;34m\u001b[0m\u001b[0m\n\u001b[0m\u001b[1;32m      3\u001b[0m \u001b[0muniform_dummy\u001b[0m\u001b[0;34m.\u001b[0m\u001b[0mfit\u001b[0m\u001b[0;34m(\u001b[0m\u001b[0mX_train_trans\u001b[0m\u001b[0;34m,\u001b[0m \u001b[0mY_categorical_train\u001b[0m\u001b[0;34m)\u001b[0m\u001b[0;34m\u001b[0m\u001b[0m\n\u001b[1;32m      4\u001b[0m \u001b[0;34m\u001b[0m\u001b[0m\n\u001b[1;32m      5\u001b[0m \u001b[0;31m# predict labels for sentences\u001b[0m\u001b[0;34m\u001b[0m\u001b[0;34m\u001b[0m\u001b[0m\n",
      "\u001b[0;31mNameError\u001b[0m: name 'sklearn' is not defined"
     ]
    }
   ],
   "source": [
    "# a dummy classifier that guesses randomly\n",
    "uniform_dummy = sklearn.dummy.DummyClassifier(strategy='uniform')\n",
    "uniform_dummy.fit(X_train_trans, Y_categorical_train)\n",
    "\n",
    "# predict labels for sentences\n",
    "uniform_Y_pred        = uniform_dummy.predict(X_test_trans)                                            \n",
    "uniform_Y_pred_onehot = lb.transform(uniform_Y_pred)\n",
    "\n",
    "# calculate Matthews Correlation Coefficient\n",
    "MCC(Y_onehot_test, uniform_Y_pred_onehot)"
   ]
  },
  {
   "cell_type": "markdown",
   "metadata": {
    "slideshow": {
     "slide_type": "subslide"
    }
   },
   "source": [
    "Confusion matrix: True versus predicted label for each class"
   ]
  },
  {
   "cell_type": "code",
   "execution_count": 263,
   "metadata": {
    "collapsed": false,
    "slideshow": {
     "slide_type": "-"
    }
   },
   "outputs": [
    {
     "data": {
      "image/png": "[encoded data removed]",
      "text/plain": [
       "<matplotlib.figure.Figure at 0x25f0f13c8>"
      ]
     },
     "metadata": {},
     "output_type": "display_data"
    }
   ],
   "source": [
    "# Compute the confusion matrix\n",
    "cm = sklearn.metrics.confusion_matrix(\n",
    "    Y_categorical_test, uniform_Y_pred)\n",
    "# plot it using my own plot function\n",
    "plot_confusion_matrix(cm, Y_categorical_labels, \n",
    "                      normalized=True)"
   ]
  },
  {
   "cell_type": "markdown",
   "metadata": {
    "slideshow": {
     "slide_type": "slide"
    }
   },
   "source": [
    "## Methods"
   ]
  },
  {
   "cell_type": "markdown",
   "metadata": {
    "slideshow": {
     "slide_type": "fragment"
    }
   },
   "source": [
    "__Approach 1:__ Vector Space Models\n",
    "\n",
    "- N-Gram Models\n",
    "- Distributed Representations"
   ]
  },
  {
   "cell_type": "markdown",
   "metadata": {
    "slideshow": {
     "slide_type": "fragment"
    }
   },
   "source": [
    "__Approach 2:__ Sequential Models\n",
    "\n",
    "- Recurrent Neural Networks"
   ]
  },
  {
   "cell_type": "markdown",
   "metadata": {
    "slideshow": {
     "slide_type": "slide"
    }
   },
   "source": [
    "## Approach 1: Vector Space Models"
   ]
  },
  {
   "cell_type": "markdown",
   "metadata": {
    "slideshow": {
     "slide_type": "fragment"
    }
   },
   "source": [
    "- Represent a sentence as a vector"
   ]
  },
  {
   "cell_type": "markdown",
   "metadata": {
    "slideshow": {
     "slide_type": "fragment"
    }
   },
   "source": [
    "- Sentences are mapped into a common vector space "
   ]
  },
  {
   "cell_type": "markdown",
   "metadata": {
    "slideshow": {
     "slide_type": "fragment"
    }
   },
   "source": [
    "-  Similar sentences are close to each other"
   ]
  },
  {
   "cell_type": "markdown",
   "metadata": {
    "slideshow": {
     "slide_type": "fragment"
    }
   },
   "source": [
    "- Usual approach:\n",
    "    1. Build Vector Space Model (often called Feature Extraction)\n",
    "    2. Apply a classifier to predict class label"
   ]
  },
  {
   "cell_type": "markdown",
   "metadata": {
    "slideshow": {
     "slide_type": "slide"
    }
   },
   "source": [
    "### Classifiers for Vector Space Models\n",
    "\n",
    "- Generalized Linear Models: ``sklearn.linear_model``\n",
    "\n",
    "- Bayesian Classifiers: ``sklearn.naive_bayes``\n",
    "\n",
    "- Tree Based Methods: ``sklearn.tree``\n",
    "\n",
    "- Ensemble Methods: ``sklearn.ensemble``\n",
    "\n",
    "- Instance-based Methods: ``sklearn.neighbors``\n",
    "\n",
    "- Kernel Methods: ``sklearn.svm``\n",
    "\n",
    "- Neural Networks: __keras__ (high-level interface on top of TensorFlow or Theano)"
   ]
  },
  {
   "cell_type": "markdown",
   "metadata": {
    "slideshow": {
     "slide_type": "slide"
    }
   },
   "source": [
    "### A Classic Vector Space Model: N-Grams\n",
    "\n",
    "- Based on word occurencies\n",
    "- N in N-Gram is the word-group size\n",
    "- E.g. Unigram (n=1) is a histogram of word counts\n",
    "- Many variations such as removing \"stop words\" or down weighing terms by how often they occur in the whole dataset (IDF)\n",
    "- Bag-of-words: word order (mostly) is disregarded"
   ]
  },
  {
   "cell_type": "markdown",
   "metadata": {
    "slideshow": {
     "slide_type": "subslide"
    }
   },
   "source": [
    "Train a model and tune it's hyper-parameters"
   ]
  },
  {
   "cell_type": "code",
   "execution_count": 264,
   "metadata": {
    "collapsed": true,
    "slideshow": {
     "slide_type": "-"
    }
   },
   "outputs": [],
   "source": [
    "# parameters chosen from previous evaluations\n",
    "tuned_parameters = [{'vect__analyzer': ['word'],\n",
    " 'vect__max_features': [100],\n",
    " 'vect__ngram_range': [(1, 1)],\n",
    " 'vect__stop_words': [None],\n",
    " 'vect__use_idf': [True]}]"
   ]
  },
  {
   "cell_type": "code",
   "execution_count": 265,
   "metadata": {
    "collapsed": false
   },
   "outputs": [],
   "source": [
    "# Make a pipeline of data processing steps\n",
    "pipeline_log_reg = sklearn.pipeline.Pipeline(\n",
    "    [('vect', sklearn.feature_extraction.text.TfidfVectorizer()),\n",
    "     ('clf',  sklearn.linear_model.LogisticRegression())])\n",
    "\n",
    "# Define a grid search over the parameters\n",
    "classifier_ngrams = sklearn.grid_search.GridSearchCV(\n",
    "    pipeline_log_reg, tuned_parameters, cv=5, \n",
    "    scoring=sklearn.metrics.make_scorer(MCC), n_jobs=4)\n",
    "\n",
    "# Perform the grid search to find the best paramters\n",
    "classifier_ngrams.fit(X_train, Y_categorical_train);"
   ]
  },
  {
   "cell_type": "markdown",
   "metadata": {
    "slideshow": {
     "slide_type": "subslide"
    }
   },
   "source": [
    "Test the model:"
   ]
  },
  {
   "cell_type": "code",
   "execution_count": 266,
   "metadata": {
    "collapsed": false,
    "slideshow": {
     "slide_type": "-"
    }
   },
   "outputs": [
    {
     "data": {
      "text/plain": [
       "0.60986230355385773"
      ]
     },
     "execution_count": 266,
     "metadata": {},
     "output_type": "execute_result"
    }
   ],
   "source": [
    "# test the performance of the model\n",
    "predictions_ngrams = classifier_ngrams.predict(X_test)\n",
    "predictions_ngrams_onehot = lb.transform(predictions_ngrams)\n",
    "\n",
    "# calculate Matthews Correlation Coefficient\n",
    "MCC(Y_onehot_test, predictions_ngrams_onehot)"
   ]
  },
  {
   "cell_type": "code",
   "execution_count": 267,
   "metadata": {
    "collapsed": false
   },
   "outputs": [
    {
     "data": {
      "image/png": "[encoded data removed]",
      "text/plain": [
       "<matplotlib.figure.Figure at 0x26b8adcf8>"
      ]
     },
     "metadata": {},
     "output_type": "display_data"
    }
   ],
   "source": [
    "# Compute the confusion matrix\n",
    "cm = sklearn.metrics.confusion_matrix(Y_categorical_test, predictions_ngrams)\n",
    "# plot it using my own plot function\n",
    "plot_confusion_matrix(cm, Y_categorical_labels, title=\"\", normalized=True)"
   ]
  },
  {
   "cell_type": "markdown",
   "metadata": {
    "slideshow": {
     "slide_type": "subslide"
    }
   },
   "source": [
    "Lets's challenge the model with our own input:"
   ]
  },
  {
   "cell_type": "code",
   "execution_count": 288,
   "metadata": {
    "collapsed": false
   },
   "outputs": [
    {
     "data": {
      "text/plain": [
       "'candidate'"
      ]
     },
     "execution_count": 288,
     "metadata": {},
     "output_type": "execute_result"
    }
   ],
   "source": [
    "# Make up a sentence from a job ad\n",
    "our_sentence = (\"Let's \")\n",
    "\n",
    "prediction = classifier.predict([our_sentence])\n",
    "le.inverse_transform(prediction)[0]"
   ]
  },
  {
   "cell_type": "markdown",
   "metadata": {
    "slideshow": {
     "slide_type": "slide"
    }
   },
   "source": [
    "### A Modern Vector Space Model: Distributed Representations"
   ]
  },
  {
   "cell_type": "markdown",
   "metadata": {
    "slideshow": {
     "slide_type": "fragment"
    }
   },
   "source": [
    "- Learn a word representation by trying to predict a word from the words in its context"
   ]
  },
  {
   "cell_type": "markdown",
   "metadata": {
    "slideshow": {
     "slide_type": "fragment"
    }
   },
   "source": [
    "- Recently popularized by so-called word2vec model by [Mikolov et al., 2013a]"
   ]
  },
  {
   "cell_type": "markdown",
   "metadata": {
    "slideshow": {
     "slide_type": "subslide"
    }
   },
   "source": [
    "<img src=\"images/cbow_vert2.pdf\" width=\"60%\"/>"
   ]
  },
  {
   "cell_type": "markdown",
   "metadata": {
    "slideshow": {
     "slide_type": "subslide"
    }
   },
   "source": [
    "Vectors shown to encode linguistic structure:\n",
    "\n",
    "<img src=\"images/word2vec_cities.pdf\" width=\"80%\"/>"
   ]
  },
  {
   "cell_type": "markdown",
   "metadata": {
    "slideshow": {
     "slide_type": "subslide"
    }
   },
   "source": [
    "__From words to sentences:__\n",
    "- Compositional approach: Combine word vectors, e.g. average (“Bag-Of-Means”) [Mitchell and Lapata, 2010]\n",
    "- Paragraph Vectors\n",
    "    - Distributed Memory Model: While predicting the word from context add a “paragraph token”\n",
    "    - Distributed Bag-Of-Words Model: Sample words from the paragraph and predict them given the paragraph token"
   ]
  },
  {
   "cell_type": "markdown",
   "metadata": {
    "slideshow": {
     "slide_type": "subslide"
    }
   },
   "source": [
    "- Using the __gensim__ package for natural language processing (NLP) algorithms we can create such a model easily. \n",
    "- Here a pretrained model is loaded (trained with a billion words from Google News)"
   ]
  },
  {
   "cell_type": "code",
   "execution_count": 150,
   "metadata": {
    "collapsed": true,
    "slideshow": {
     "slide_type": "-"
    }
   },
   "outputs": [],
   "source": [
    "model_word2vec = gensim.models.Word2Vec.load_word2vec_format(\n",
    "    \"~/thesis/data/word2vec/GoogleNews-vectors-negative300.bin\", \n",
    "    binary=True)"
   ]
  },
  {
   "cell_type": "markdown",
   "metadata": {
    "slideshow": {
     "slide_type": "subslide"
    }
   },
   "source": [
    "The \"Bag-of-Means\" model can be created by simply averaging the vectors for each sentence"
   ]
  },
  {
   "cell_type": "code",
   "execution_count": 270,
   "metadata": {
    "collapsed": true
   },
   "outputs": [],
   "source": [
    "def build_bagofmeans(X):\n",
    "    means = []\n",
    "    for sentence in X:\n",
    "        words = sentence.split()\n",
    "        word_vectors = []\n",
    "        for word in words: \n",
    "            try:\n",
    "                word_vectors.append(model_word2vec[word])\n",
    "            except:\n",
    "                pass # word not in vocabulary\n",
    "        if word_vectors != []:\n",
    "            mean = np.matrix(np.mean(word_vectors, axis=0))\n",
    "        else:\n",
    "            mean = np.zeros((1,300))\n",
    "        means.append(mean)\n",
    "    return np.vstack(means)"
   ]
  },
  {
   "cell_type": "markdown",
   "metadata": {
    "slideshow": {
     "slide_type": "subslide"
    }
   },
   "source": [
    "Now we can transform the data into vector representations"
   ]
  },
  {
   "cell_type": "code",
   "execution_count": 271,
   "metadata": {
    "collapsed": true
   },
   "outputs": [],
   "source": [
    "X_bagofmeans_train = build_bagofmeans(X_train)\n",
    "X_bagofmeans_test  = build_bagofmeans(X_test)\n",
    "X_bagofmeans  = build_bagofmeans(data_X)"
   ]
  },
  {
   "cell_type": "markdown",
   "metadata": {
    "slideshow": {
     "slide_type": "subslide"
    }
   },
   "source": [
    "We can train a model similarly as above:"
   ]
  },
  {
   "cell_type": "code",
   "execution_count": 272,
   "metadata": {
    "collapsed": false
   },
   "outputs": [],
   "source": [
    "# Define a logistic regression classifier and train it\n",
    "classifier_bagofmeans = sklearn.linear_model.LogisticRegression()\n",
    "classifier_bagofmeans.fit(X_bagofmeans_train, Y_categorical_train);"
   ]
  },
  {
   "cell_type": "code",
   "execution_count": 273,
   "metadata": {
    "collapsed": false
   },
   "outputs": [
    {
     "data": {
      "text/plain": [
       "0.70193376004857766"
      ]
     },
     "execution_count": 273,
     "metadata": {},
     "output_type": "execute_result"
    }
   ],
   "source": [
    "# Make predictions with the trained classifier \n",
    "predictions_bagofmeans = classifier_bagofmeans.predict(X_bagofmeans_test)\n",
    "predictions_bagofmeans = lb.transform(predictions_bagofmeans)\n",
    "\n",
    "# Measure the MCC score\n",
    "MCC(Y_onehot_test, predictions_bagofmeans)"
   ]
  },
  {
   "cell_type": "markdown",
   "metadata": {
    "slideshow": {
     "slide_type": "slide"
    }
   },
   "source": [
    "## Sequential Models"
   ]
  },
  {
   "cell_type": "markdown",
   "metadata": {},
   "source": [
    "- Text seen as signal of characters (or words) in time\n",
    "- In language strong dependencies of the time points"
   ]
  },
  {
   "cell_type": "markdown",
   "metadata": {
    "slideshow": {
     "slide_type": "slide"
    }
   },
   "source": [
    "### Neural Networks\n",
    "\n",
    "\n",
    "<img src=\"images/neural_net.jpg\" width=\"40%\">"
   ]
  },
  {
   "cell_type": "markdown",
   "metadata": {
    "slideshow": {
     "slide_type": "fragment"
    }
   },
   "source": [
    "- Universal function approximators"
   ]
  },
  {
   "cell_type": "markdown",
   "metadata": {
    "slideshow": {
     "slide_type": "fragment"
    }
   },
   "source": [
    "- Biologically motivated by neurons"
   ]
  },
  {
   "cell_type": "markdown",
   "metadata": {
    "slideshow": {
     "slide_type": "subslide"
    }
   },
   "source": [
    "A neural network in Keras:"
   ]
  },
  {
   "cell_type": "code",
   "execution_count": 274,
   "metadata": {
    "collapsed": false
   },
   "outputs": [],
   "source": [
    "from keras.models import Sequential\n",
    "from keras.layers import Dense, Activation\n",
    "\n",
    "model = Sequential()\n",
    "\n",
    "model.add(Dense(output_dim=64, input_dim=300))\n",
    "model.add(Activation(\"relu\"))\n",
    "model.add(Dense(output_dim=6))\n",
    "model.add(Activation(\"softmax\"))"
   ]
  },
  {
   "cell_type": "markdown",
   "metadata": {
    "slideshow": {
     "slide_type": "subslide"
    }
   },
   "source": [
    "We need to compile it:"
   ]
  },
  {
   "cell_type": "code",
   "execution_count": 275,
   "metadata": {
    "collapsed": true
   },
   "outputs": [],
   "source": [
    "model.compile(loss='categorical_crossentropy', optimizer='sgd', metrics=['accuracy'])"
   ]
  },
  {
   "cell_type": "markdown",
   "metadata": {
    "slideshow": {
     "slide_type": "subslide"
    }
   },
   "source": [
    "Now we can train it:"
   ]
  },
  {
   "cell_type": "code",
   "execution_count": 278,
   "metadata": {
    "collapsed": false
   },
   "outputs": [
    {
     "name": "stdout",
     "output_type": "stream",
     "text": [
      "Epoch 1/10\n",
      "6963/6963 [==============================] - 0s - loss: 1.3046 - acc: 0.5235     \n",
      "Epoch 2/10\n",
      "6963/6963 [==============================] - 0s - loss: 1.2639 - acc: 0.5446     \n",
      "Epoch 3/10\n",
      "6963/6963 [==============================] - 0s - loss: 1.2243 - acc: 0.5709     \n",
      "Epoch 4/10\n",
      "6963/6963 [==============================] - 0s - loss: 1.1863 - acc: 0.5913     \n",
      "Epoch 5/10\n",
      "6963/6963 [==============================] - 0s - loss: 1.1504 - acc: 0.6094     \n",
      "Epoch 6/10\n",
      "6963/6963 [==============================] - 0s - loss: 1.1172 - acc: 0.6256     \n",
      "Epoch 7/10\n",
      "6963/6963 [==============================] - 0s - loss: 1.0865 - acc: 0.6361     \n",
      "Epoch 8/10\n",
      "6963/6963 [==============================] - 0s - loss: 1.0587 - acc: 0.6470     \n",
      "Epoch 9/10\n",
      "6963/6963 [==============================] - 0s - loss: 1.0334 - acc: 0.6527     \n",
      "Epoch 10/10\n",
      "6963/6963 [==============================] - 0s - loss: 1.0105 - acc: 0.6569     \n"
     ]
    }
   ],
   "source": [
    "model.fit(X_bagofmeans_train, Y_onehot_train, nb_epoch=10, batch_size=32);"
   ]
  },
  {
   "cell_type": "markdown",
   "metadata": {
    "slideshow": {
     "slide_type": "subslide"
    }
   },
   "source": [
    "Now we can predict and measure score:"
   ]
  },
  {
   "cell_type": "code",
   "execution_count": 279,
   "metadata": {
    "collapsed": false,
    "slideshow": {
     "slide_type": "-"
    }
   },
   "outputs": [
    {
     "name": "stdout",
     "output_type": "stream",
     "text": [
      "1888/2985 [=================>............] - ETA: 0s"
     ]
    },
    {
     "data": {
      "text/plain": [
       "0.53132311299119261"
      ]
     },
     "execution_count": 279,
     "metadata": {},
     "output_type": "execute_result"
    }
   ],
   "source": [
    "predictions_nn = model.predict_classes(X_bagofmeans_test, batch_size=32)\n",
    "MCC(Y_categorical_test, predictions_nn)"
   ]
  },
  {
   "cell_type": "markdown",
   "metadata": {
    "slideshow": {
     "slide_type": "slide"
    }
   },
   "source": [
    "### Recurrent Neural Networks"
   ]
  },
  {
   "cell_type": "markdown",
   "metadata": {},
   "source": [
    "<img src=\"images/RNN-unrolled.png\" width=\"70%\">\n",
    "\n",
    "<small>Image stolen from http://colah.github.io/posts/2015-08-Understanding-LSTMs<small>"
   ]
  },
  {
   "cell_type": "markdown",
   "metadata": {
    "slideshow": {
     "slide_type": "-"
    }
   },
   "source": [
    "- Neural Networks with \"loops\"\n",
    "\n",
    "- Unrolling: Network “copied across the time dimension”\n",
    "\n",
    "- Network was built to model text on character-level"
   ]
  },
  {
   "cell_type": "markdown",
   "metadata": {
    "slideshow": {
     "slide_type": "slide"
    }
   },
   "source": [
    "### Models used:\n",
    "- Simple LSTM: Single recurrent layer\n",
    "- Stacked LSTM: Three recurrent layers, first two return sequences\n",
    "- Multi-task LSTM: Generative model. Objective: Given a sequence of characters, predict next character and the label at this character"
   ]
  },
  {
   "cell_type": "markdown",
   "metadata": {
    "slideshow": {
     "slide_type": "slide"
    }
   },
   "source": [
    "## Results"
   ]
  },
  {
   "cell_type": "markdown",
   "metadata": {
    "slideshow": {
     "slide_type": "fragment"
    }
   },
   "source": [
    "- Distributed Representations slightly outperform N-Grams (but the improvement is marginal):\n",
    "    - Best MCC score for Distributed Representations: __0.716__ (Bag-of-Means and Neural Network)\n",
    "    - Best MCC score for N-Grams: __0.713__ (using an SVM classifier)\n",
    "\n"
   ]
  },
  {
   "cell_type": "markdown",
   "metadata": {
    "slideshow": {
     "slide_type": "fragment"
    }
   },
   "source": [
    "- Sequential Model (Recurrent Neural Network) almost on par: __0.707__ MCC score"
   ]
  },
  {
   "cell_type": "markdown",
   "metadata": {
    "slideshow": {
     "slide_type": "fragment"
    }
   },
   "source": [
    "- For Distributed Reprensentations and Recurrent Neural Networks the dataset is tiny: Better performance can be expected with more data"
   ]
  },
  {
   "cell_type": "markdown",
   "metadata": {
    "slideshow": {
     "slide_type": "slide"
    }
   },
   "source": [
    "### Conclusion 1: Trend towards Representation Learning Methods"
   ]
  },
  {
   "cell_type": "markdown",
   "metadata": {
    "slideshow": {
     "slide_type": "fragment"
    }
   },
   "source": [
    "- Less assumptions about the problem domain"
   ]
  },
  {
   "cell_type": "markdown",
   "metadata": {
    "slideshow": {
     "slide_type": "fragment"
    }
   },
   "source": [
    "- Generally shown to perform better "
   ]
  },
  {
   "cell_type": "markdown",
   "metadata": {
    "slideshow": {
     "slide_type": "fragment"
    }
   },
   "source": [
    "- Free us from having to do \"feature engineering\""
   ]
  },
  {
   "cell_type": "markdown",
   "metadata": {
    "slideshow": {
     "slide_type": "slide"
    }
   },
   "source": [
    "### Conclusion 2: Python is awesome for Machine Learning research"
   ]
  },
  {
   "cell_type": "markdown",
   "metadata": {
    "slideshow": {
     "slide_type": "fragment"
    }
   },
   "source": [
    "- Data manipulation is easy, wide array of tools available"
   ]
  },
  {
   "cell_type": "markdown",
   "metadata": {
    "slideshow": {
     "slide_type": "fragment"
    }
   },
   "source": [
    "- Large and active community using python for research"
   ]
  },
  {
   "cell_type": "markdown",
   "metadata": {
    "slideshow": {
     "slide_type": "fragment"
    }
   },
   "source": [
    "- It's a serious programming language"
   ]
  },
  {
   "cell_type": "markdown",
   "metadata": {
    "collapsed": true,
    "slideshow": {
     "slide_type": "slide"
    }
   },
   "source": [
    "## Kiitos! \n",
    "\n",
    "Now it's Q&A time\n",
    "\n"
   ]
  },
  {
   "cell_type": "markdown",
   "metadata": {
    "slideshow": {
     "slide_type": "slide"
    }
   },
   "source": [
    "### Python packages used: \n",
    "\n",
    "- requests\n",
    "- beautifulsoup\n",
    "- pandas\n",
    "- scikit-learn\n",
    "- keras\n",
    "- seaborn\n",
    "- matplotlib\n",
    "- probably more ..."
   ]
  },
  {
   "cell_type": "markdown",
   "metadata": {
    "slideshow": {
     "slide_type": "slide"
    }
   },
   "source": [
    "### My thesis \n",
    "\n",
    "- Tex files and pdf: https://github.com/cle-ment/ma-thesis-tex\n",
    "- The final experiments on AWS (a little messy): https://github.com/cle-ment/ma-thesis-experiments\n",
    "- The crowdsource tagging tool built for collecting the first dataset: https://github.com/cle-ment/ma-thesis-crowdsource-text-tagger"
   ]
  }
 ],
 "metadata": {
  "anaconda-cloud": {},
  "celltoolbar": "Slideshow",
  "kernelspec": {
   "display_name": "Python [default]",
   "language": "python",
   "name": "python3"
  },
  "language_info": {
   "codemirror_mode": {
    "name": "ipython",
    "version": 3
   },
   "file_extension": ".py",
   "mimetype": "text/x-python",
   "name": "python",
   "nbconvert_exporter": "python",
   "pygments_lexer": "ipython3",
   "version": "3.5.2"
  },
  "toc": {
   "toc_cell": false,
   "toc_number_sections": false,
   "toc_threshold": 6,
   "toc_window_display": false
  },
  "toc_position": {
   "left": "833px",
   "right": "20px",
   "top": "167px",
   "width": "219px"
  }
 },
 "nbformat": 4,
 "nbformat_minor": 0
}
